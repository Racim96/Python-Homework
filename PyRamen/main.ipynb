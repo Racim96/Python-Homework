{
 "cells": [
  {
   "cell_type": "code",
   "execution_count": 4,
   "metadata": {},
   "outputs": [],
   "source": [
    "import pandas as pd\n",
    "from pathlib import Path"
   ]
  },
  {
   "cell_type": "code",
   "execution_count": 5,
   "metadata": {},
   "outputs": [
    {
     "data": {
      "text/plain": [
       "'C:\\\\Users\\\\racim\\\\Python-Homework\\\\PyRamen'"
      ]
     },
     "execution_count": 5,
     "metadata": {},
     "output_type": "execute_result"
    }
   ],
   "source": [
    "pwd"
   ]
  },
  {
   "cell_type": "code",
   "execution_count": 6,
   "metadata": {},
   "outputs": [
    {
     "data": {
      "text/html": [
       "<div>\n",
       "<style scoped>\n",
       "    .dataframe tbody tr th:only-of-type {\n",
       "        vertical-align: middle;\n",
       "    }\n",
       "\n",
       "    .dataframe tbody tr th {\n",
       "        vertical-align: top;\n",
       "    }\n",
       "\n",
       "    .dataframe thead th {\n",
       "        text-align: right;\n",
       "    }\n",
       "</style>\n",
       "<table border=\"1\" class=\"dataframe\">\n",
       "  <thead>\n",
       "    <tr style=\"text-align: right;\">\n",
       "      <th></th>\n",
       "      <th>item</th>\n",
       "      <th>category</th>\n",
       "      <th>description</th>\n",
       "      <th>price</th>\n",
       "      <th>cost</th>\n",
       "    </tr>\n",
       "  </thead>\n",
       "  <tbody>\n",
       "    <tr>\n",
       "      <th>0</th>\n",
       "      <td>edamame</td>\n",
       "      <td>appetizers</td>\n",
       "      <td>boiled soybeans, maldon sea salt</td>\n",
       "      <td>4.0</td>\n",
       "      <td>1</td>\n",
       "    </tr>\n",
       "    <tr>\n",
       "      <th>1</th>\n",
       "      <td>house salad</td>\n",
       "      <td>appetizers</td>\n",
       "      <td>mixed greens, cherry tomatoes, cucumber, house...</td>\n",
       "      <td>4.0</td>\n",
       "      <td>2</td>\n",
       "    </tr>\n",
       "    <tr>\n",
       "      <th>2</th>\n",
       "      <td>cucumber sunomono salad</td>\n",
       "      <td>appetizers</td>\n",
       "      <td>cucumber, ponzu dressing, pickled ginger sprou...</td>\n",
       "      <td>5.0</td>\n",
       "      <td>2</td>\n",
       "    </tr>\n",
       "    <tr>\n",
       "      <th>3</th>\n",
       "      <td>hiyashi wakame seaweed salad</td>\n",
       "      <td>appetizers</td>\n",
       "      <td>sweet soy-marinated wakame seaweed threads, pi...</td>\n",
       "      <td>5.0</td>\n",
       "      <td>2</td>\n",
       "    </tr>\n",
       "    <tr>\n",
       "      <th>4</th>\n",
       "      <td>agedashi tofu</td>\n",
       "      <td>appetizers</td>\n",
       "      <td>tempura battered tofu, katsuobushi, tsuyu brot...</td>\n",
       "      <td>5.0</td>\n",
       "      <td>2</td>\n",
       "    </tr>\n",
       "  </tbody>\n",
       "</table>\n",
       "</div>"
      ],
      "text/plain": [
       "                           item    category  \\\n",
       "0                       edamame  appetizers   \n",
       "1                   house salad  appetizers   \n",
       "2       cucumber sunomono salad  appetizers   \n",
       "3  hiyashi wakame seaweed salad  appetizers   \n",
       "4                 agedashi tofu  appetizers   \n",
       "\n",
       "                                         description  price  cost  \n",
       "0                   boiled soybeans, maldon sea salt    4.0     1  \n",
       "1  mixed greens, cherry tomatoes, cucumber, house...    4.0     2  \n",
       "2  cucumber, ponzu dressing, pickled ginger sprou...    5.0     2  \n",
       "3  sweet soy-marinated wakame seaweed threads, pi...    5.0     2  \n",
       "4  tempura battered tofu, katsuobushi, tsuyu brot...    5.0     2  "
      ]
     },
     "execution_count": 6,
     "metadata": {},
     "output_type": "execute_result"
    }
   ],
   "source": [
    "csvpath_menu = Path(\"../Instructions/PyRamen_csvfile/Resources/menu_data.csv\")\n",
    "menu_dataframe = pd.read_csv(csvpath_menu)\n",
    "menu_dataframe.head()"
   ]
  },
  {
   "cell_type": "code",
   "execution_count": null,
   "metadata": {},
   "outputs": [],
   "source": []
  },
  {
   "cell_type": "code",
   "execution_count": null,
   "metadata": {},
   "outputs": [],
   "source": []
  }
 ],
 "metadata": {
  "kernelspec": {
   "display_name": "Python 3",
   "language": "python",
   "name": "python3"
  },
  "language_info": {
   "codemirror_mode": {
    "name": "ipython",
    "version": 3
   },
   "file_extension": ".py",
   "mimetype": "text/x-python",
   "name": "python",
   "nbconvert_exporter": "python",
   "pygments_lexer": "ipython3",
   "version": "3.8.5"
  }
 },
 "nbformat": 4,
 "nbformat_minor": 4
}
